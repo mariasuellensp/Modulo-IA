{
 "cells": [
  {
   "cell_type": "code",
   "execution_count": null,
   "id": "2e32e325",
   "metadata": {
    "vscode": {
     "languageId": "plaintext"
    }
   },
   "outputs": [],
   "source": [
    "while True:\n",
    "    try:\n",
    "        num1 = float(input(\"Digite o primeiro número: \"))\n",
    "        break\n",
    "    except ValueError:\n",
    "        print(\"Erro: você deve digitar um número válido.\")\n",
    "\n",
    "while True:\n",
    "    try:\n",
    "        num2 = float(input(\"Digite o segundo número: \"))\n",
    "        break\n",
    "    except ValueError:\n",
    "        print(\"Erro: você deve digitar um número válido.\")\n",
    "\n",
    "while True:\n",
    "    operacao = input(\"Digite a operação (+, -, *, /): \")\n",
    "\n",
    "    if operacao == '+':\n",
    "        resultado = num1 + num2\n",
    "        break\n",
    "    elif operacao == '-':\n",
    "        resultado = num1 - num2\n",
    "        break\n",
    "    elif operacao == '*':\n",
    "        resultado = num1 * num2\n",
    "        break\n",
    "    elif operacao == '/':\n",
    "        try:\n",
    "            resultado = num1 / num2\n",
    "            break\n",
    "        except ZeroDivisionError:\n",
    "            print(\"Erro: não é possível dividir por zero.\")\n",
    "            while True:\n",
    "                try:\n",
    "                    num2 = float(input(\"Digite um novo segundo número (≠ 0): \"))\n",
    "                    if num2 != 0:\n",
    "                        break\n",
    "                    else:\n",
    "                        print(\"Erro: número ainda é zero.\")\n",
    "                except ValueError:\n",
    "                    print(\"Erro: você deve digitar um número válido.\")\n",
    "    else:\n",
    "        print(\"Erro: operação inválida. Use apenas +, -, * ou /.\")\n",
    "\n",
    "print(f\"Resultado: {num1} {operacao} {num2} = {resultado}\")\n"
   ]
  }
 ],
 "metadata": {
  "language_info": {
   "name": "python"
  }
 },
 "nbformat": 4,
 "nbformat_minor": 5
}
