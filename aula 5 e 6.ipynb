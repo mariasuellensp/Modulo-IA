{
 "cells": [
  {
   "cell_type": "markdown",
   "id": "8750ee31",
   "metadata": {},
   "source": [
    "## Sintaxe Básica\n",
    " - Python é umna linguagem de programação popularmente conhecida pro sua simplicidade e clareza; Sua sintaxe permite que os desenvolvedores escrevam códigos de forma concisa, facilitando a leitura e a manutenção. Nesta seção, vamos explorar os principais conceitos de sintaxe básica de Python, incluindo indentação, comentários, variáveis e palavras reservadas.\n",
    "\n",
    "## Identação em python\n",
    " - É de extrema importância para a identificação dos blocos de código."
   ]
  },
  {
   "cell_type": "code",
   "execution_count": null,
   "id": "73e4046d",
   "metadata": {},
   "outputs": [],
   "source": [
    "def saudacao():\n",
    "    print('Olá, Mundo!')\n",
    "saudacao()"
   ]
  },
  {
   "cell_type": "code",
   "execution_count": null,
   "id": "27af3468",
   "metadata": {},
   "outputs": [],
   "source": [
    "x = 5\n",
    "if x<5:\n",
    "    print('x é menor que 5')\n",
    "else:\n",
    "    print('x é maior ou igual a 5')"
   ]
  },
  {
   "cell_type": "markdown",
   "id": "ade372ec",
   "metadata": {},
   "source": [
    "## Comentários em python\n",
    " - Para realizar documentações, explicações que não irão ser executadas no código."
   ]
  },
  {
   "cell_type": "code",
   "execution_count": null,
   "id": "cbef7e79",
   "metadata": {},
   "outputs": [],
   "source": [
    "# Comentário\n",
    "\n",
    "# Função para exibir nome:\n",
    "nome = 'Joacir'\n",
    "print(nome)\n"
   ]
  },
  {
   "cell_type": "markdown",
   "id": "894a4567",
   "metadata": {},
   "source": [
    "## Váriaveis em python\n",
    " - **Declaração**: nome_variavel = valor\n",
    " - **Tipagem Dinâmica**: o tipo é inferido automaticamente.\n",
    " - **Case-sensitive**: variavel e Variavel são diferentes."
   ]
  },
  {
   "cell_type": "code",
   "execution_count": null,
   "id": "832e75c1",
   "metadata": {},
   "outputs": [],
   "source": [
    "idade = 25 # A variável 'idade' armazena um número inteiro\n",
    "nome = 'Lucas' # A variável 'nome' armazena um string (texto)\n",
    "altura = 1.75 # A variável 'altura' armazena um númeor decimal (float)"
   ]
  },
  {
   "cell_type": "markdown",
   "id": "79bfb34c",
   "metadata": {},
   "source": [
    "## Palavras reservadas em Python\n",
    "\n",
    " - Python possui um conjunto de palavras que têm um signifaco especial e não podem ser usadas como nomes de variáveis. Essas palavras reservadas são usadas para definir a estrutura e o fluxo do código.\n",
    "\n",
    " **False**: *Valor booleano falso*\n",
    " **True**: *Valor booleano verdadeiro*\n",
    " **None**: *Representa a ausência de valor*\n",
    " **and**: *Operador lógico \"e\"*\n",
    " **not**: *Operador lógico \"não\"*\n",
    " **if**: *Condicional \"se\"*\n",
    " **else**: *Condicional \"senão\"*\n",
    " **for**:  *Laço \"para\"*\n",
    " **while**: *Laço \"enquanto\"*\n",
    " **def**: *Define uma função*\n",
    "\n",
    "## Tipos de dado Básicos em Python\n",
    " - **Inteiros (int)** - Números inteiros(positivos ou negativos) - 28 bytes (Varia de acordo com o valor)\n",
    " - **Floats (float)** - Números de ponto flutuante (decimais) - 24 bytes (aproximadamente)\n",
    " - **Strings (str)** - Cadeias de caracteres (texto) - Depende do tamanho da String\n",
    " - **Booleanos (bool)** - Valores lógicos (True ou False) - 24 bytes"
   ]
  },
  {
   "cell_type": "markdown",
   "id": "9a97f5b0",
   "metadata": {},
   "source": [
    "## Operadores de Comparação\n",
    " - Os operadores de comparação em Python são utilizados para comparar dois valores e retornam um valor booleano, ou seja, True (verdadeiro) ou False (falso). Esses operadores são amplamente usados em estruturas de controle como if, while e for, onde as condições são fundamentais para decidir o fluxo do programa. A seguir, vamos explorar os principais operadores de comparação, com exemplos práticos de uso.\n",
    "\n",
    " - **==** : Igual a\n",
    " - **!=** : Diferente de\n",
    " - **<** : Menor que\n",
    " - **<=** : Menor ou igual a\n",
    " - **>** : Maior que\n",
    " - **>=** : Maior ou igual a"
   ]
  },
  {
   "cell_type": "markdown",
   "id": "7d5a5807",
   "metadata": {},
   "source": [
    "## Exemplos Variáveis"
   ]
  },
  {
   "cell_type": "code",
   "execution_count": null,
   "id": "1b4379db",
   "metadata": {},
   "outputs": [],
   "source": [
    "idade = 27 # int\n",
    "nome = 'Ana' # string\n",
    "altura = 1.28 # float\n",
    "\n",
    "print(type(idade))\n",
    "print(type(nome))\n",
    "print(type(altura))"
   ]
  },
  {
   "cell_type": "markdown",
   "id": "795b928f",
   "metadata": {},
   "source": [
    "## Exemplos operações aritméticas"
   ]
  },
  {
   "cell_type": "code",
   "execution_count": null,
   "id": "1daa27c9",
   "metadata": {},
   "outputs": [],
   "source": [
    "a = 10\n",
    "b = 2\n",
    "\n",
    "print('Soma', a + b)\n",
    "print('Subtracao', a - b)\n",
    "print('Multiplicação', a * b)\n",
    "print('Divisão', a / b)\n",
    "print('Potenciação', a ** b)\n",
    "print('Módulo', a % b) # Irá mostrar o 'resto' da operação de divisão"
   ]
  },
  {
   "cell_type": "markdown",
   "id": "32c07196",
   "metadata": {},
   "source": [
    "## Exemplo Operações de comparação"
   ]
  },
  {
   "cell_type": "code",
   "execution_count": null,
   "id": "b2b4c454",
   "metadata": {},
   "outputs": [],
   "source": [
    "x = 5\n",
    "y = 7\n",
    "\n",
    "print('Igualdade: ', x == y)\n",
    "print('Diferença: ', x != y)\n",
    "print('Maior: ', x > y)\n",
    "print('Maior ou Igual: ', x >= y)\n",
    "print('Menor: ', x < y)\n",
    "print('Menor ou Igual: ', x <= y)"
   ]
  }
 ],
 "metadata": {
  "kernelspec": {
   "display_name": "Python 3",
   "language": "python",
   "name": "python3"
  },
  "language_info": {
   "codemirror_mode": {
    "name": "ipython",
    "version": 3
   },
   "file_extension": ".py",
   "mimetype": "text/x-python",
   "name": "python",
   "nbconvert_exporter": "python",
   "pygments_lexer": "ipython3",
   "version": "3.13.3"
  }
 },
 "nbformat": 4,
 "nbformat_minor": 5
}
