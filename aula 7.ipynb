{
 "cells": [
  {
   "cell_type": "markdown",
   "id": "a661dfb3",
   "metadata": {},
   "source": [
    "# Estruturas\n",
    "\n",
    "## IF e ELIF\n",
    "\n",
    " - if:(se) Inicia a estrutura condicional"
   ]
  },
  {
   "cell_type": "code",
   "execution_count": null,
   "id": "84743f0c",
   "metadata": {},
   "outputs": [],
   "source": [
    "# Exemplo básico de uso do if\n",
    "numero = 10\n",
    "if numero > 0:\n",
    "    print(\"O numero é positivo.\")\n"
   ]
  },
  {
   "cell_type": "markdown",
   "id": "0d903308",
   "metadata": {},
   "source": [
    " - elif: Significa \"else if\" (senão se)"
   ]
  },
  {
   "cell_type": "code",
   "execution_count": null,
   "id": "6b0eb40b",
   "metadata": {},
   "outputs": [],
   "source": [
    "# Usando if, elif e else para verificar o sinal de um número\n",
    "numero = -1\n",
    "if numero > 0:\n",
    "    print(\"O número é positivo.\")\n",
    "elif numero < 0:\n",
    "    print(\"O número é negativo.\")"
   ]
  },
  {
   "cell_type": "markdown",
   "id": "d5aedcea",
   "metadata": {},
   "source": [
    "## Capturando dados numéricos e conversão de tipos\n",
    " - Veja um Exemplo em que o programa solicita a idade do usuário e, em seguida, converte a entrada para um número inteiro:"
   ]
  },
  {
   "cell_type": "code",
   "execution_count": null,
   "id": "a9c9092d",
   "metadata": {},
   "outputs": [],
   "source": [
    "idade = input(\"Digite a sua idade: \") # Captura o dado como String\n",
    "idade = int(idade) # Converte para inteiro\n",
    "print(\"Você tem:\", idade, \"anos.\")"
   ]
  },
  {
   "cell_type": "markdown",
   "id": "c040e77b",
   "metadata": {},
   "source": [
    " - Agora, vejamos um exemplo para números decimais"
   ]
  },
  {
   "cell_type": "code",
   "execution_count": null,
   "id": "47e2c788",
   "metadata": {},
   "outputs": [],
   "source": [
    "altura = input(\"Digite a sua altura: \") # Captura a altura como string\n",
    "altura = float(altura) # Converte para float(decimal)\n",
    "print(\"Sua altura é\", altura, \"metros\")"
   ]
  },
  {
   "cell_type": "markdown",
   "id": "36519abb",
   "metadata": {},
   "source": [
    " - Exemplo de erro quando não convertemos o tipo"
   ]
  },
  {
   "cell_type": "code",
   "execution_count": null,
   "id": "cc88056a",
   "metadata": {},
   "outputs": [],
   "source": [
    "idade = input('Digite sua idade: ')\n",
    "idade = idade + 5\n",
    "print('Sua idade + 5 é: ', idade)"
   ]
  },
  {
   "cell_type": "markdown",
   "id": "8dcbb6b0",
   "metadata": {},
   "source": [
    " - Exemplo correto"
   ]
  },
  {
   "cell_type": "code",
   "execution_count": null,
   "id": "5d3275eb",
   "metadata": {},
   "outputs": [],
   "source": [
    "idade = int(input('Digite sua idade: '))\n",
    "idade = idade + 5\n",
    "print('Sua idade + 5 é: ', idade)"
   ]
  },
  {
   "cell_type": "markdown",
   "id": "52328ccf",
   "metadata": {},
   "source": [
    "## Processando os Dados inseridos\n",
    "### Depois de capturar e converter os dados, podemos realizar operações e processá-las.\n",
    "\n",
    " - Exemplo 1 – Captura de número e cálculo:"
   ]
  },
  {
   "cell_type": "code",
   "execution_count": null,
   "id": "e1e70910",
   "metadata": {},
   "outputs": [],
   "source": [
    "numero = input(\"Digite um número: \")     # Captura o número como string\n",
    "numero = float(numero)                   # Converte para float\n",
    "dobro = numero * 2                       # Calcula o dobro do número\n",
    "print(\"O dobro de\", numero, \"é\", dobro)\n"
   ]
  },
  {
   "cell_type": "markdown",
   "id": "8de1aa15",
   "metadata": {},
   "source": [
    " - Exemplo 2 – Entrada de dados completa:"
   ]
  },
  {
   "cell_type": "code",
   "execution_count": null,
   "id": "8341b59b",
   "metadata": {},
   "outputs": [],
   "source": [
    "# Exemplo completo de entrada de dados\n",
    "nome = input(\"Digite o seu nome: \")                                  # Captura o nome do usuário\n",
    "idade = int(input(\"Digite a sua idade: \"))                           # Captura e converte a idade\n",
    "altura = float(input(\"Digite a sua altura em metros: \"))             # Captura e converte a altura\n",
    "\n",
    "print(\"\\nResumo das suas informações:\")\n",
    "print(\"Nome:\", nome)\n",
    "print(\"Idade:\", idade, \"anos\")\n",
    "print(\"Altura:\", altura, \"metros\")\n"
   ]
  },
  {
   "cell_type": "markdown",
   "id": "f47869f1",
   "metadata": {},
   "source": [
    "## Exemplo Prático\n",
    "\n",
    " - Crie um exemplo prático que verifica se uma pessoa atingiu a maioridade (18 anos ou mais) e exibe uma mensagem apropriada."
   ]
  },
  {
   "cell_type": "code",
   "execution_count": null,
   "id": "ba3d00f8",
   "metadata": {},
   "outputs": [],
   "source": [
    "idade = int(input('Qual sua idade?'))\n",
    "if idade >= 18:\n",
    "    print('Você é maior de idade!')\n",
    "else:\n",
    "    print('Você é menor de idade!')"
   ]
  },
  {
   "cell_type": "markdown",
   "id": "68a9b368",
   "metadata": {},
   "source": [
    " - Exemplo verificar idade votação:"
   ]
  },
  {
   "cell_type": "code",
   "execution_count": null,
   "id": "b50fb928",
   "metadata": {},
   "outputs": [],
   "source": [
    "idade = int(input('Digite sua idade: '))\n",
    "\n",
    "if idade >= 18:\n",
    "    print('Você é obrigado a votar')\n",
    "elif idade >= 16:\n",
    "    print('Você pode votar se quiser')\n",
    "else:\n",
    "    print('Você é menor de idade e não vota')\n"
   ]
  }
 ],
 "metadata": {
  "kernelspec": {
   "display_name": "Python 3",
   "language": "python",
   "name": "python3"
  },
  "language_info": {
   "codemirror_mode": {
    "name": "ipython",
    "version": 3
   },
   "file_extension": ".py",
   "mimetype": "text/x-python",
   "name": "python",
   "nbconvert_exporter": "python",
   "pygments_lexer": "ipython3",
   "version": "3.13.3"
  }
 },
 "nbformat": 4,
 "nbformat_minor": 5
}
